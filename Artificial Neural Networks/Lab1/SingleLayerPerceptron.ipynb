{
 "cells": [
  {
   "cell_type": "code",
   "execution_count": 2,
   "metadata": {},
   "outputs": [],
   "source": [
    "import numpy as np\n",
    "import matplotlib.pyplot as plt\n",
    "from scipy.special import expit"
   ]
  },
  {
   "cell_type": "markdown",
   "metadata": {},
   "source": [
    "# Classification with a Single-Layer Perceptron"
   ]
  },
  {
   "cell_type": "markdown",
   "metadata": {},
   "source": [
    "## Generate Linearly-Separable Data"
   ]
  },
  {
   "cell_type": "code",
   "execution_count": 3,
   "metadata": {},
   "outputs": [
    {
     "data": {
      "text/plain": [
       "<matplotlib.text.Text at 0x1097f00b8>"
      ]
     },
     "execution_count": 3,
     "metadata": {},
     "output_type": "execute_result"
    },
    {
     "data": {
      "image/png": "[encoded data removed]",
      "text/plain": [
       "<matplotlib.figure.Figure at 0x107782dd8>"
      ]
     },
     "metadata": {},
     "output_type": "display_data"
    }
   ],
   "source": [
    "%matplotlib inline\n",
    "def generate_data(mean, cov, N):\n",
    "    x = np.random.multivariate_normal(mean, cov, N)\n",
    "    return x\n",
    "\n",
    "# Generate data for each class\n",
    "class0 = generate_data([-1, -1], [[0.1, 0],[0, 0.1]], 100)\n",
    "class1 = generate_data([1, 1], [[0.1, 0],[0, 0.1]], 100)\n",
    "\n",
    "# Add targets to classes\n",
    "neg = np.zeros((100,1))\n",
    "pos = np.ones((100,1))\n",
    "class0 = np.concatenate((class0, neg), axis=1)\n",
    "class1 = np.concatenate((class1, pos), axis=1)\n",
    "\n",
    "# Shuffle the data\n",
    "data = np.concatenate((class0, class1), axis=0)\n",
    "np.random.shuffle(data)\n",
    "\n",
    "# Plot the data\n",
    "plt.scatter(class0[:,0],class0[:,1])\n",
    "plt.scatter(class1[:,0],class1[:,1])\n",
    "plt.title(\"Two Linearly Separable Classes\")\n",
    "\n",
    "\n",
    "\n"
   ]
  },
  {
   "cell_type": "markdown",
   "metadata": {},
   "source": [
    "## Classification with a single-layer perceptron"
   ]
  },
  {
   "cell_type": "markdown",
   "metadata": {},
   "source": [
    "Apply and compare both perceptron learning and Delta learning rules on the generated dataset. Please try also to compare sequential with a batch learning approach. Comparisons can be made using some evaluation metrics that could be the number or ratio of misclassified examples at each epoch (iteration through the entire dataset). How quickly do the algorithms converge? Please plot the learnign curves for each variant of learning. You could also visualise the learning process by plotting a separating line (decision boundary) after each epoch of training (for that you could generate a sort of animation; you are not required though to demonstrate this animation to the teaching assistant)."
   ]
  },
  {
   "cell_type": "code",
   "execution_count": 4,
   "metadata": {
    "scrolled": true
   },
   "outputs": [],
   "source": [
    "# Generate weights in an NxM matrix where N is number of inputs and\n",
    "# M is number of outputs. Weights are small with a mean of 0. Extra\n",
    "# Column is added to weights for the bias\n",
    "def generate_Weights(inputDim, outputDim):\n",
    "    # Add 1 to the input for bias\n",
    "    W = np.random.randn(outputDim, inputDim+1)/100\n",
    "    \n",
    "    return W\n",
    "\n",
    "\n",
    "# Add bias to the input matrix\n",
    "def make_Input(data):\n",
    "    X = data[:,:2]\n",
    "    ones = np.ones(len(X))\n",
    "    ones = ones.reshape(-1,1)\n",
    "    X = np.concatenate((X, ones), axis=1)\n",
    "    return X.T\n",
    "\n",
    "def Output(data):\n",
    "    T = data[:,2]\n",
    "    T = T.reshape((1,-1))\n",
    "    return T\n",
    "    \n",
    "\n"
   ]
  },
  {
   "cell_type": "markdown",
   "metadata": {},
   "source": [
    "### Perceptron Learning"
   ]
  },
  {
   "cell_type": "code",
   "execution_count": 11,
   "metadata": {},
   "outputs": [
    {
     "name": "stdout",
     "output_type": "stream",
     "text": [
      "Epoch 0 ErrorRate 16.6583491424965\n",
      "Epoch 1 ErrorRate 97.86484602137551\n",
      "Epoch 2 ErrorRate 0.11049355918765211\n",
      "Epoch 3 ErrorRate 99.99997516334007\n",
      "Epoch 4 ErrorRate 1.8675022919213102e-15\n",
      "Epoch 5 ErrorRate 100.0\n",
      "Epoch 6 ErrorRate 7.568876440155974e-153\n",
      "Epoch 7 ErrorRate 100.0\n",
      "Epoch 8 ErrorRate 0.0\n"
     ]
    },
    {
     "data": {
      "text/plain": [
       "array([[8267.53669058, 8210.54611401,  281.64258971]])"
      ]
     },
     "execution_count": 11,
     "metadata": {},
     "output_type": "execute_result"
    }
   ],
   "source": [
    "#np.random.seed(5)\n",
    "\n",
    "def classifySamples(weights, inputs):\n",
    "    output = weights.dot(inputs)\n",
    "    #output = np.where(output>0,1,0)\n",
    "    output = expit(output)\n",
    "    return output\n",
    "\n",
    "\n",
    "\n",
    "def Update(targets, inputs, rate, rule, weights, outputs=None):\n",
    "    if (rule == \"perceptron\"):\n",
    "        delW = -rate*(outputs-targets).dot(inputs.T)\n",
    "    elif (rule == \"delta\"):\n",
    "        delW = -rate*(weights.dot(inputs)-targets).dot(inputs.T)\n",
    "    weights += delW\n",
    "    return weights\n",
    "\n",
    "\n",
    "def trainSeq(data, rate, rule):\n",
    "    W = generate_Weights(2,1)\n",
    "    \n",
    "    for j in range(10):\n",
    "        for i in range(np.shape(data)[0]):\n",
    "            if (i==0):\n",
    "                np.random.shuffle(data)\n",
    "                X = make_Input(data)\n",
    "                T = Output(data)\n",
    "                Y = classifySamples(W,X)\n",
    "            target = T[:,i].reshape(-1,1)\n",
    "            input = X[:,i].reshape(-1,1)\n",
    "            output = Y[:,i].reshape(-1,1)\n",
    "            W = Update(target,input,rate,rule,W,output)\n",
    "            #print(\"Weights\", W)\n",
    "            Newoutput = classifySamples(W, X)\n",
    "            err = np.sum(np.abs(Newoutput - T))\n",
    "            errRate = err/np.shape(T)[1]*100\n",
    "\n",
    "\n",
    "            print(\"Sample\", i, \"ErrorRate\", errRate)\n",
    "            if(err == 0):\n",
    "                break\n",
    "        if(err == 0):\n",
    "            break\n",
    "    return W\n",
    "        \n",
    "        \n",
    "    \n",
    "#trainSeq(data, 0.001, \"delta\")\n",
    "\n",
    "    \n",
    "def trainBatch(epochs, data, rate, rule):\n",
    "    W = generate_Weights(2,1)\n",
    "    X = make_Input(data)\n",
    "    T = Output(data)\n",
    "    Y = classifySamples(W,X)\n",
    "    for i in range(epochs):\n",
    "        W = Update(T, X, rate, rule, W, Y)\n",
    "        Newoutput= classifySamples(W,X)\n",
    "        err = np.sum(Newoutput - T)\n",
    "        errRate = err/np.shape(T)[1]*100\n",
    "        \n",
    "        print(\"Epoch\", i, \"ErrorRate\", errRate)\n",
    "        if(err == 0):\n",
    "            break\n",
    "    return W\n",
    "\n",
    "trainBatch(50, data, 0.01, \"delta\")"
   ]
  },
  {
   "cell_type": "code",
   "execution_count": null,
   "metadata": {},
   "outputs": [],
   "source": []
  }
 ],
 "metadata": {
  "kernelspec": {
   "display_name": "Python 3",
   "language": "python",
   "name": "python3"
  },
  "language_info": {
   "codemirror_mode": {
    "name": "ipython",
    "version": 3
   },
   "file_extension": ".py",
   "mimetype": "text/x-python",
   "name": "python",
   "nbconvert_exporter": "python",
   "pygments_lexer": "ipython3",
   "version": "3.6.2"
  }
 },
 "nbformat": 4,
 "nbformat_minor": 2
}
