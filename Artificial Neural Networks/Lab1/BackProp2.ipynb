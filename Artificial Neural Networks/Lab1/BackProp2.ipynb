{
 "cells": [
  {
   "cell_type": "code",
   "execution_count": 1,
   "metadata": {},
   "outputs": [],
   "source": [
    "import numpy as np\n",
    "import matplotlib.pyplot as plt"
   ]
  },
  {
   "cell_type": "code",
   "execution_count": 2,
   "metadata": {},
   "outputs": [],
   "source": [
    "def phi(x):\n",
    "    return 2 / (1 + np.exp(-x)) - 1\n",
    "\n",
    "def phiPrime(phi):\n",
    "    return (1 + phi)*(1 - phi) / 2"
   ]
  },
  {
   "cell_type": "code",
   "execution_count": 8,
   "metadata": {},
   "outputs": [
    {
     "data": {
      "image/png": "[encoded data removed]",
      "text/plain": [
       "<matplotlib.figure.Figure at 0x113e7f518>"
      ]
     },
     "metadata": {},
     "output_type": "display_data"
    }
   ],
   "source": [
    "def genDataset1(train_N = 100, test_N = 100):\n",
    "    \"\"\"\n",
    "    Generates a custom dataset for a classification problem with 2 classes.\n",
    "\n",
    "    Args:\n",
    "        train_N: number of training samples.\n",
    "        test_N: number of testing samples.\n",
    "        \n",
    "    Returns:\n",
    "        Tuple with the training data inputs, training data outputs, test data inputs and test data outputs.\n",
    "        Input matrices have a shape of 2 x samples and output matrices a shape of  1 x samples.\n",
    "    \"\"\"\n",
    "    # Initialize distribution parameters\n",
    "    mu1 = [-4, -4]\n",
    "    mu2 = [0, 0]\n",
    "    mu3 = [4, 4]\n",
    "    cov1 = [[1.5, -0.8],[-0.8, 1.5]]\n",
    "    \n",
    "    # Create training data\n",
    "    class1_cluster_N = int(train_N / 4)\n",
    "    class2_cluster_N = int(train_N / 2)\n",
    "    X1_train = np.random.multivariate_normal(mu1, cov1, class1_cluster_N)\n",
    "    X2_train = np.random.multivariate_normal(mu3, cov1,  class1_cluster_N)\n",
    "    X3_train = np.random.multivariate_normal(mu2, cov1,  class2_cluster_N)\n",
    "    X_train = np.concatenate((X1_train, X2_train, X3_train)).T\n",
    "    T1_train = np.ones((1, class1_cluster_N * 2))\n",
    "    T2_train = np.full((1, class2_cluster_N), -1)\n",
    "    T_train = np.concatenate((T1_train, T2_train), axis = 1)\n",
    "        \n",
    "    # Create testing data\n",
    "    class1_cluster_N = int(test_N / 4)\n",
    "    class2_cluster_N = int(test_N / 2)\n",
    "    X1_test = np.random.multivariate_normal(mu1, cov1, class1_cluster_N)\n",
    "    X2_test = np.random.multivariate_normal(mu3, cov1,  class1_cluster_N)\n",
    "    X3_test = np.random.multivariate_normal(mu2, cov1,  class2_cluster_N)\n",
    "    X_test = np.concatenate((X1_test, X2_test, X3_test)).T\n",
    "    T1_test = np.ones((1, class1_cluster_N * 2))\n",
    "    T2_test = np.full((1, class2_cluster_N), -1)\n",
    "    T_test = np.concatenate((T1_test, T2_test), axis = 1)\n",
    "    \n",
    "    return (X_train, T_train, X_test, T_test)\n",
    "X_train, T_train, X_test, T_test = genDataset1()\n",
    "\n",
    "def scatterPlotData(X, T):\n",
    "    \"\"\"Creates scatter plot for data given inputs X and target outputs T (with -1 and 1 values)\"\"\"\n",
    "    inputDims = X.shape[0]\n",
    "    sampleNo = X.shape[1]\n",
    "    X1 = X[0].reshape((1, sampleNo))\n",
    "    X2 = X[1].reshape((1, sampleNo))\n",
    "    plt.scatter(X1[T == 1], X2[T == 1], color = 'r')\n",
    "    plt.scatter(X1[T == -1], X2[T == -1], color = 'b')\n",
    "    plt.show()\n",
    "    \n",
    "scatterPlotData(X_train, T_train)"
   ]
  },
  {
   "cell_type": "code",
   "execution_count": null,
   "metadata": {},
   "outputs": [],
   "source": []
  }
 ],
 "metadata": {
  "kernelspec": {
   "display_name": "Python 3",
   "language": "python",
   "name": "python3"
  },
  "language_info": {
   "codemirror_mode": {
    "name": "ipython",
    "version": 3
   },
   "file_extension": ".py",
   "mimetype": "text/x-python",
   "name": "python",
   "nbconvert_exporter": "python",
   "pygments_lexer": "ipython3",
   "version": "3.6.2"
  }
 },
 "nbformat": 4,
 "nbformat_minor": 2
}
